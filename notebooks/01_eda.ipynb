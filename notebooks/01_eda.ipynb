{
 "cells": [
  {
   "cell_type": "code",
   "execution_count": 1,
   "id": "99a9c06b",
   "metadata": {},
   "outputs": [],
   "source": [
    "import pandas as pd "
   ]
  },
  {
   "cell_type": "code",
   "execution_count": 4,
   "id": "148a39d3",
   "metadata": {},
   "outputs": [],
   "source": [
    "df = pd.read_csv('../CCPP.csv')"
   ]
  },
  {
   "cell_type": "code",
   "execution_count": 6,
   "id": "bbb83cdf",
   "metadata": {},
   "outputs": [
    {
     "data": {
      "application/vnd.microsoft.datawrangler.viewer.v0+json": {
       "columns": [
        {
         "name": "index",
         "rawType": "int64",
         "type": "integer"
        },
        {
         "name": "AT",
         "rawType": "float64",
         "type": "float"
        },
        {
         "name": "VC",
         "rawType": "float64",
         "type": "float"
        },
        {
         "name": "AP",
         "rawType": "float64",
         "type": "float"
        },
        {
         "name": "RH",
         "rawType": "float64",
         "type": "float"
        },
        {
         "name": "PE",
         "rawType": "float64",
         "type": "float"
        },
        {
         "name": "PR",
         "rawType": "int64",
         "type": "integer"
        }
       ],
       "ref": "2d53dd8d-55ac-4d14-b22d-e48d95401542",
       "rows": [
        [
         "0",
         "8.34",
         "40.77",
         "1010.84",
         "90.01",
         "480.48",
         "1"
        ],
        [
         "1",
         "23.64",
         "58.49",
         "1011.4",
         "74.2",
         "445.75",
         "2"
        ],
        [
         "2",
         "29.74",
         "56.9",
         "1007.15",
         "41.91",
         "438.76",
         "3"
        ],
        [
         "3",
         "19.07",
         "49.69",
         "1007.22",
         "76.79",
         "453.09",
         "4"
        ],
        [
         "4",
         "11.8",
         "40.66",
         "1017.13",
         "97.2",
         "464.43",
         "5"
        ]
       ],
       "shape": {
        "columns": 6,
        "rows": 5
       }
      },
      "text/html": [
       "<div>\n",
       "<style scoped>\n",
       "    .dataframe tbody tr th:only-of-type {\n",
       "        vertical-align: middle;\n",
       "    }\n",
       "\n",
       "    .dataframe tbody tr th {\n",
       "        vertical-align: top;\n",
       "    }\n",
       "\n",
       "    .dataframe thead th {\n",
       "        text-align: right;\n",
       "    }\n",
       "</style>\n",
       "<table border=\"1\" class=\"dataframe\">\n",
       "  <thead>\n",
       "    <tr style=\"text-align: right;\">\n",
       "      <th></th>\n",
       "      <th>AT</th>\n",
       "      <th>VC</th>\n",
       "      <th>AP</th>\n",
       "      <th>RH</th>\n",
       "      <th>PE</th>\n",
       "      <th>PR</th>\n",
       "    </tr>\n",
       "  </thead>\n",
       "  <tbody>\n",
       "    <tr>\n",
       "      <th>0</th>\n",
       "      <td>8.34</td>\n",
       "      <td>40.77</td>\n",
       "      <td>1010.84</td>\n",
       "      <td>90.01</td>\n",
       "      <td>480.48</td>\n",
       "      <td>1</td>\n",
       "    </tr>\n",
       "    <tr>\n",
       "      <th>1</th>\n",
       "      <td>23.64</td>\n",
       "      <td>58.49</td>\n",
       "      <td>1011.40</td>\n",
       "      <td>74.20</td>\n",
       "      <td>445.75</td>\n",
       "      <td>2</td>\n",
       "    </tr>\n",
       "    <tr>\n",
       "      <th>2</th>\n",
       "      <td>29.74</td>\n",
       "      <td>56.90</td>\n",
       "      <td>1007.15</td>\n",
       "      <td>41.91</td>\n",
       "      <td>438.76</td>\n",
       "      <td>3</td>\n",
       "    </tr>\n",
       "    <tr>\n",
       "      <th>3</th>\n",
       "      <td>19.07</td>\n",
       "      <td>49.69</td>\n",
       "      <td>1007.22</td>\n",
       "      <td>76.79</td>\n",
       "      <td>453.09</td>\n",
       "      <td>4</td>\n",
       "    </tr>\n",
       "    <tr>\n",
       "      <th>4</th>\n",
       "      <td>11.80</td>\n",
       "      <td>40.66</td>\n",
       "      <td>1017.13</td>\n",
       "      <td>97.20</td>\n",
       "      <td>464.43</td>\n",
       "      <td>5</td>\n",
       "    </tr>\n",
       "  </tbody>\n",
       "</table>\n",
       "</div>"
      ],
      "text/plain": [
       "      AT     VC       AP     RH      PE  PR\n",
       "0   8.34  40.77  1010.84  90.01  480.48   1\n",
       "1  23.64  58.49  1011.40  74.20  445.75   2\n",
       "2  29.74  56.90  1007.15  41.91  438.76   3\n",
       "3  19.07  49.69  1007.22  76.79  453.09   4\n",
       "4  11.80  40.66  1017.13  97.20  464.43   5"
      ]
     },
     "execution_count": 6,
     "metadata": {},
     "output_type": "execute_result"
    }
   ],
   "source": [
    "df.head()"
   ]
  },
  {
   "cell_type": "code",
   "execution_count": null,
   "id": "7b8faff8",
   "metadata": {},
   "outputs": [],
   "source": []
  }
 ],
 "metadata": {
  "kernelspec": {
   "display_name": "Python 3",
   "language": "python",
   "name": "python3"
  },
  "language_info": {
   "codemirror_mode": {
    "name": "ipython",
    "version": 3
   },
   "file_extension": ".py",
   "mimetype": "text/x-python",
   "name": "python",
   "nbconvert_exporter": "python",
   "pygments_lexer": "ipython3",
   "version": "3.12.11"
  }
 },
 "nbformat": 4,
 "nbformat_minor": 5
}
